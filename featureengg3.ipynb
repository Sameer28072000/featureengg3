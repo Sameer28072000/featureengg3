{
 "cells": [
  {
   "cell_type": "markdown",
   "id": "c9489418-8cdc-4fb6-84e4-b5b3990676c2",
   "metadata": {},
   "source": [
    "Q1. What is Min-Max scaling, and how is it used in data preprocessing? Provide an example to illustrate its\n",
    "application."
   ]
  },
  {
   "cell_type": "code",
   "execution_count": null,
   "id": "41d97aff-0fdd-43c5-9686-d749821e5b22",
   "metadata": {},
   "outputs": [],
   "source": [
    "Ans:-Min-Max scaling is  nothing but it is normalization.To rescale the numeric feature in data preprocessing.\n",
    "It will give the value in specific range(0-1).\n",
    "formula----> X-Xmin/Xmax-Xmin"
   ]
  },
  {
   "cell_type": "markdown",
   "id": "8c804d59-e402-40d4-9df4-ec549a5ce22f",
   "metadata": {},
   "source": [
    "Q2. What is the Unit Vector technique in feature scaling, and how does it differ from Min-Max scaling?\n",
    "Provide an example to illustrate its application."
   ]
  },
  {
   "cell_type": "code",
   "execution_count": null,
   "id": "b5560cc9-bfc1-4006-b7e7-36d81757937c",
   "metadata": {},
   "outputs": [],
   "source": [
    "Ans:-Unit vector is also called as normalization or feature scaling to rescale the numeric value in specific range(0-1)."
   ]
  },
  {
   "cell_type": "markdown",
   "id": "d40689da-82db-4822-8716-bbec3761b409",
   "metadata": {},
   "source": [
    "Q3. What is PCA (Principle Component Analysis), and how is it used in dimensionality reduction? Provide an\n",
    "example to illustrate its application."
   ]
  },
  {
   "cell_type": "code",
   "execution_count": null,
   "id": "565931d5-d57d-4cfd-b073-5f7774ddd486",
   "metadata": {},
   "outputs": [],
   "source": [
    "Ans:-First of all PCA(Principle Component Analysis) means it is aunsupervised machine learning algorithm.\n",
    "PCA(Principle Component Analysis) is a dimentionally reduction technique.It reduce 3D-2D."
   ]
  },
  {
   "cell_type": "markdown",
   "id": "c03ac320-cdca-4e2a-9e76-f1a109d27b94",
   "metadata": {},
   "source": [
    "Q4. What is the relationship between PCA and Feature Extraction, and how can PCA be used for Feature\n",
    "Extraction? Provide an example to illustrate this concept."
   ]
  },
  {
   "cell_type": "code",
   "execution_count": null,
   "id": "a44585dc-1c50-42d0-a507-ea36e07b5bca",
   "metadata": {},
   "outputs": [],
   "source": [
    "Ans:-\n",
    "PCA (Principle Component Analysis)is a dimentionally reduction technique.It reduce 3D-2D.\n",
    "Feature Extration is a process of selecting & extracting the most importance feature from the raw data."
   ]
  },
  {
   "cell_type": "markdown",
   "id": "45ed7232-7a44-487f-915b-d07c9b8af680",
   "metadata": {},
   "source": [
    "Q5. You are working on a project to build a recommendation system for a food delivery service. The dataset\n",
    "contains features such as price, rating, and delivery time. Explain how you would use Min-Max scaling to\n",
    "preprocess the data."
   ]
  },
  {
   "cell_type": "code",
   "execution_count": null,
   "id": "8c0a6990-3813-4b78-8687-06c9fa71b3e7",
   "metadata": {},
   "outputs": [],
   "source": [
    "Ans:-we use Min-Max scaling on feature like price,delivery Time etc.\n",
    "To rescale the feature value within in the specific range(0-1)."
   ]
  },
  {
   "cell_type": "markdown",
   "id": "ac80760c-0e3d-4896-b638-d09494cfcefc",
   "metadata": {},
   "source": [
    "Q6. You are working on a project to build a model to predict stock prices. The dataset contains many\n",
    "features, such as company financial data and market trends. Explain how you would use PCA to reduce the\n",
    "dimensionality of the dataset."
   ]
  },
  {
   "cell_type": "code",
   "execution_count": null,
   "id": "59abc767-86d1-4a28-ad2b-d802f2b701c6",
   "metadata": {},
   "outputs": [],
   "source": [
    "Ans:-PCA to reduce the dimensionality of the predict stock price dataset.\n",
    "PCA will tranform your data in usefull mannner."
   ]
  },
  {
   "cell_type": "markdown",
   "id": "1c1117d6-9d7c-46d6-9ba5-6fc6a9b4fea2",
   "metadata": {},
   "source": [
    "Q7. For a dataset containing the following values: [1, 5, 10, 15, 20], perform Min-Max scaling to transform the\n",
    "values to a range of -1 to 1."
   ]
  },
  {
   "cell_type": "code",
   "execution_count": null,
   "id": "97061f55-a4ce-44cb-9872-938d3058680f",
   "metadata": {},
   "outputs": [],
   "source": [
    "Ans:-\n",
    "\n",
    "X=[1, 5, 10, 15, 20]\n",
    "\n",
    "formula----> X-Xmin/Xmax-Xmin\n",
    "i.     min value =1,max value =20, value of X is 1\n",
    "formula----> X-Xmin/Xmax-Xmin \n",
    "             =(1-1)/(20-1)=0/19-----------------       = 0\n",
    "    \n",
    "ii.    min value =1,max value =20, value of X is 5\n",
    "formula----> X-Xmin/Xmax-Xmin \n",
    "             =(5-1)/(20-1)=4/19-----------------       = 0.211\n",
    "    \n",
    "iii.   min value =1,max value =20, value of X is 10\n",
    "formula----> X-Xmin/Xmax-Xmin \n",
    "             =(10-1)/(20-1)=9/19----------------       = 0.474      [0 to 1]------without rescale\n",
    "    \n",
    "iv.    min value =1,max value =20, value of X is 15\n",
    "formula----> X-Xmin/Xmax-Xmin \n",
    "             =(15-1)/(20-1)=14/19--------------        = 0.737\n",
    "\n",
    "v.     min value =1,max value =20, value of X is 20\n",
    "formula----> X-Xmin/Xmax-Xmin \n",
    "             =(20-1)/(20-1)=19/19--------------        = 1\n",
    "    \n",
    "    \n",
    "the values to a range of -1 to 1.    \n",
    "    \n",
    "i.       rescale=2*scale_value - 1  \n",
    "             =2*0-1---------------------      =   -1\n",
    "    \n",
    "ii.      rescale=2*scale_value - 1  \n",
    "             =2*0.211-1-----------------      =  -0.578             [-1 to 1]------with rescale\n",
    "        \n",
    "iii.     rescale=2*scale_value - 1  \n",
    "             =2*0.474-1-----------------      =  -0.053\n",
    "     \n",
    "iv.      rescale=2*scale_value - 1  \n",
    "             =2*0.737-1-----------------      =   0.474\n",
    "        \n",
    "v.       rescale=2*scale_value - 1  \n",
    "             =2*1-1--------------------       =   1\n",
    "        "
   ]
  },
  {
   "cell_type": "markdown",
   "id": "c8036d97-d990-49ed-8e8c-97148e7e4c32",
   "metadata": {},
   "source": [
    "Q8. For a dataset containing the following features: [height, weight, age, gender, blood pressure], perform\n",
    "Feature Extraction using PCA. How many principal components would you choose to retain, and why?"
   ]
  },
  {
   "cell_type": "code",
   "execution_count": null,
   "id": "8617853d-e1b2-4196-ac8d-0405cf311701",
   "metadata": {},
   "outputs": [],
   "source": [
    "Ans:- To ratain retain the no. of principal components for feature extraction using PCA.\n",
    "i.Perform PCA\n",
    "ii.Determine the retain components"
   ]
  }
 ],
 "metadata": {
  "kernelspec": {
   "display_name": "Python 3 (ipykernel)",
   "language": "python",
   "name": "python3"
  },
  "language_info": {
   "codemirror_mode": {
    "name": "ipython",
    "version": 3
   },
   "file_extension": ".py",
   "mimetype": "text/x-python",
   "name": "python",
   "nbconvert_exporter": "python",
   "pygments_lexer": "ipython3",
   "version": "3.10.8"
  }
 },
 "nbformat": 4,
 "nbformat_minor": 5
}
